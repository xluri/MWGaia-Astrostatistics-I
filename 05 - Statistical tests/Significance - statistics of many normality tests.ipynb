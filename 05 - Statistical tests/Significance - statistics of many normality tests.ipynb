{
 "cells": [
  {
   "cell_type": "markdown",
   "metadata": {},
   "source": [
    "# Statistics of normality tests: understanding the P-values\n",
    "\n",
    "### This notebook is licensed  under [CC BY-NC-SA 4.0](https://creativecommons.org/licenses/by-nc-sa/4.0/?ref=chooser-v1) © 2024 by Xavier Luri (ICCUB)\n",
    "\n",
    "In order to understand the meaning of the P-values we will generate a large number of samples, apply a Shapiro-Wilks test to them and analyze the resulting distribution of these values in different cases.\n",
    "\n",
    "### Case 1: the null hipothesis is true, the samples are normal"
   ]
  },
  {
   "cell_type": "code",
   "execution_count": null,
   "metadata": {},
   "outputs": [],
   "source": [
    "%matplotlib inline\n",
    "import scipy.stats as scp\n",
    "import matplotlib.pylab as plt\n",
    "import numpy as np\n",
    "\n",
    "# Parameters of the normal distributions to use\n",
    "# and number of points per sample\n",
    "mu=0\n",
    "sig=1\n",
    "N=100\n",
    "\n",
    "# Generate many samples and collect SW results\n",
    "Nsamples= 2000\n",
    "Svalues= []\n",
    "Pvalues= []\n",
    "for i in range(Nsamples):\n",
    "    x = scp.norm.rvs(mu, sig, N)\n",
    "    SW = scp.shapiro(x)\n",
    "    Svalues.append(SW[0])\n",
    "    Pvalues.append(SW[1])\n",
    "    \n",
    "p= plt.hist(Pvalues,20)"
   ]
  },
  {
   "cell_type": "markdown",
   "metadata": {},
   "source": [
    "### Case 2: the null hipothesis is false, the samples are _not_ normal"
   ]
  },
  {
   "cell_type": "code",
   "execution_count": 6,
   "metadata": {},
   "outputs": [
    {
     "data": {
      "image/png": "[encoded data removed]",
      "text/plain": [
       "<Figure size 432x288 with 1 Axes>"
      ]
     },
     "metadata": {
      "needs_background": "light"
     },
     "output_type": "display_data"
    }
   ],
   "source": [
    "%matplotlib inline\n",
    "import scipy.stats as scp\n",
    "import matplotlib.pylab as plt\n",
    "import numpy as np\n",
    "\n",
    "# Parameters of the chi distribution to use\n",
    "# and number of points per sample\n",
    "k= 5\n",
    "N=100\n",
    "\n",
    "# Generate many samples and collect SW results\n",
    "Nsamples= 2000\n",
    "Svalues= []\n",
    "Pvalues= []\n",
    "for i in range(Nsamples):\n",
    "    x = scp.chi2.rvs(k, size=N)\n",
    "    SW = scp.shapiro(x)\n",
    "    Svalues.append(SW[0])\n",
    "    Pvalues.append(SW[1])\n",
    "    \n",
    "p= plt.hist(Pvalues,20)"
   ]
  },
  {
   "cell_type": "markdown",
   "metadata": {},
   "source": [
    "### Case 3: the null hipothesis is false, the samples are not normal but to different degrees"
   ]
  },
  {
   "cell_type": "code",
   "execution_count": 14,
   "metadata": {},
   "outputs": [
    {
     "data": {
      "image/png": "[encoded data removed]",
      "text/plain": [
       "<Figure size 1080x540 with 2 Axes>"
      ]
     },
     "metadata": {
      "needs_background": "light"
     },
     "output_type": "display_data"
    }
   ],
   "source": [
    "%matplotlib inline\n",
    "import scipy.stats as scp\n",
    "import matplotlib.pylab as plt\n",
    "import numpy as np\n",
    "\n",
    "# Parameters of the normal distributions to use\n",
    "# and number of points per sample\n",
    "mu1=0\n",
    "sig1=1\n",
    "N1=500\n",
    "\n",
    "mu2=1.5\n",
    "sig2=1\n",
    "N2=500\n",
    "\n",
    "# Generate many samples and collect SW results\n",
    "Nsamples= 2000\n",
    "Svalues= []\n",
    "Pvalues= []\n",
    "for i in range(Nsamples):\n",
    "    x = []\n",
    "    x.extend( scp.norm.rvs(mu1, sig1, N1) )\n",
    "    x.extend( scp.norm.rvs(mu2, sig2, N2) )\n",
    "    SW = scp.shapiro(x)\n",
    "    Svalues.append(SW[0])\n",
    "    Pvalues.append(SW[1])\n",
    "\n",
    "# Plot histogram of a sample for comparison and histogram of P-values\n",
    "fig = plt.figure(frameon=False)\n",
    "fig.set_size_inches(15,7.5)\n",
    "\n",
    "p1= plt.subplot(1,2,1)\n",
    "p= plt.hist(x,20)\n",
    "\n",
    "p2= plt.subplot(1,2,2)\n",
    "p= plt.hist(Pvalues,20)\n"
   ]
  },
  {
   "cell_type": "code",
   "execution_count": null,
   "metadata": {},
   "outputs": [],
   "source": []
  }
 ],
 "metadata": {
  "kernelspec": {
   "display_name": "Python 3 (ipykernel)",
   "language": "python",
   "name": "python3"
  },
  "language_info": {
   "codemirror_mode": {
    "name": "ipython",
    "version": 3
   },
   "file_extension": ".py",
   "mimetype": "text/x-python",
   "name": "python",
   "nbconvert_exporter": "python",
   "pygments_lexer": "ipython3",
   "version": "3.11.5"
  }
 },
 "nbformat": 4,
 "nbformat_minor": 2
}
