{
 "cells": [
  {
   "cell_type": "markdown",
   "metadata": {},
   "source": [
    "## Hypothesis testing: checking a sample for normality\n",
    "\n",
    "### This notebook is licensed  under [CC BY-NC-SA 4.0](https://creativecommons.org/licenses/by-nc-sa/4.0/?ref=chooser-v1) © 2024 by Xavier Luri (ICCUB)\n",
    "\n",
    "See also: https://machinelearningmastery.com/a-gentle-introduction-to-normality-tests-in-python/\n",
    "\n",
    "### Generate a normal sample"
   ]
  },
  {
   "cell_type": "code",
   "execution_count": 2,
   "metadata": {},
   "outputs": [
    {
     "data": {
      "image/png": "[encoded data removed]",
      "text/plain": [
       "<Figure size 640x480 with 1 Axes>"
      ]
     },
     "metadata": {},
     "output_type": "display_data"
    }
   ],
   "source": [
    "%matplotlib inline\n",
    "import scipy.stats as scp\n",
    "import matplotlib.pylab as plt\n",
    "import numpy as np\n",
    "\n",
    "# Parameters of the normal distributions to use\n",
    "# and number of points per sample\n",
    "mu=0\n",
    "sig=1\n",
    "N=1000\n",
    "\n",
    "# Generate a normal sample \n",
    "x = scp.norm.rvs(mu, sig, N)\n",
    "\n",
    "# Define bins of the histogram; choose limits using the \n",
    "# quantile function to an interval with relevant values\n",
    "bins= np.linspace(scp.norm.ppf(0.01,mu,sig), scp.norm.ppf(0.99,mu,sig), 20)\n",
    "\n",
    "# Plot histogram\n",
    "h= plt.hist(x,bins)\n",
    "plt.grid(True)\n",
    "plt.xlabel('x')\n",
    "plt.ylabel('N')\n",
    "\n",
    "# Calculate predicted bin value by substractig CDF values at the borders\n",
    "pred_x= []\n",
    "pred_y= []\n",
    "for i in range(len(bins)-1):\n",
    "    pred_x.append( bins[i] )\n",
    "    pred_y.append( N * ( scp.norm.cdf(bins[i+1],mu,sig) - scp.norm.cdf(bins[i],mu,sig) ) )\n",
    "\n",
    "p= plt.step(pred_x,pred_y,where=\"post\",color=\"red\")"
   ]
  },
  {
   "cell_type": "markdown",
   "metadata": {},
   "source": [
    "\n",
    "#### Shapiro-Wilks test"
   ]
  },
  {
   "cell_type": "code",
   "execution_count": 3,
   "metadata": {},
   "outputs": [
    {
     "name": "stdout",
     "output_type": "stream",
     "text": [
      "SW statistic:  0.9979279637336731   SW P-value:  0.2537650465965271\n"
     ]
    }
   ],
   "source": [
    "SW = scp.shapiro(x)\n",
    "print(\"SW statistic: \",SW[0], \"  SW P-value: \",SW[1])"
   ]
  },
  {
   "cell_type": "markdown",
   "metadata": {},
   "source": [
    "#### Normal test"
   ]
  },
  {
   "cell_type": "code",
   "execution_count": 4,
   "metadata": {},
   "outputs": [
    {
     "name": "stdout",
     "output_type": "stream",
     "text": [
      "NT statistic:  2.7542470663672014   NT P-value:  0.25230325220619026\n"
     ]
    }
   ],
   "source": [
    "NT = scp.normaltest(x)\n",
    "print(\"NT statistic: \",NT[0], \"  NT P-value: \",NT[1])"
   ]
  },
  {
   "cell_type": "markdown",
   "metadata": {},
   "source": [
    "### Generate a non-normal sample"
   ]
  },
  {
   "cell_type": "code",
   "execution_count": 5,
   "metadata": {},
   "outputs": [
    {
     "data": {
      "image/png": "[encoded data removed]",
      "text/plain": [
       "<Figure size 640x480 with 1 Axes>"
      ]
     },
     "metadata": {},
     "output_type": "display_data"
    }
   ],
   "source": [
    "%matplotlib inline\n",
    "import scipy.stats as scp\n",
    "import matplotlib.pylab as plt\n",
    "import numpy as np\n",
    "\n",
    "# Parameters of the normal distributions to use\n",
    "# and number of points per sample\n",
    "mu1=0\n",
    "sig1=1\n",
    "N1=1000\n",
    "\n",
    "mu2=1\n",
    "sig2=1\n",
    "N2=1000\n",
    "\n",
    "# Combine two normal samples \n",
    "x = []\n",
    "x.extend( scp.norm.rvs(mu1, sig1, N1) )\n",
    "x.extend( scp.norm.rvs(mu2, sig2, N2) )\n",
    "\n",
    "# Define bins of the histogram; choose limits using the \n",
    "# quantile function to an interval with relevant values\n",
    "bins= np.linspace(np.amin(x), np.amax(x), 20)\n",
    "\n",
    "# Plot histogram\n",
    "h= plt.hist(x,bins)\n",
    "plt.grid(True)\n",
    "plt.xlabel('x')\n",
    "plt.ylabel('N')\n",
    "\n",
    "# Calculate predicted bin value by substractig CDF values at the borders\n",
    "pred_x= []\n",
    "pred_y= []\n",
    "for i in range(len(bins)-1):\n",
    "    pred_x.append( bins[i] )\n",
    "    pred_y.append( (N1+N2) * ( scp.norm.cdf(bins[i+1],mu1,sig1) - scp.norm.cdf(bins[i],mu1,sig1) ) )\n",
    "\n",
    "p= plt.step(pred_x,pred_y,where=\"post\",color=\"red\")"
   ]
  },
  {
   "cell_type": "markdown",
   "metadata": {},
   "source": [
    "#### Shapiro-Wilks test"
   ]
  },
  {
   "cell_type": "code",
   "execution_count": 6,
   "metadata": {},
   "outputs": [
    {
     "name": "stdout",
     "output_type": "stream",
     "text": [
      "SW statistic:  0.9987863302230835   SW P-value:  0.17710289359092712\n"
     ]
    }
   ],
   "source": [
    "SW = scp.shapiro(x)\n",
    "print(\"SW statistic: \",SW[0], \"  SW P-value: \",SW[1])"
   ]
  },
  {
   "cell_type": "markdown",
   "metadata": {},
   "source": [
    "#### Normal test"
   ]
  },
  {
   "cell_type": "code",
   "execution_count": 7,
   "metadata": {},
   "outputs": [
    {
     "name": "stdout",
     "output_type": "stream",
     "text": [
      "NT statistic:  3.864635029724411   NT P-value:  0.14481220486190322\n"
     ]
    }
   ],
   "source": [
    "NT = scp.normaltest(x)\n",
    "print(\"NT statistic: \",NT[0], \"  NT P-value: \",NT[1])"
   ]
  },
  {
   "cell_type": "markdown",
   "metadata": {},
   "source": [
    "## Exercise: residuals normality tests\n",
    "\n",
    "You are provided with three samples: SampleA.csv, SampleB.csv, SampleC.csv\n",
    "\n",
    "Each sample is a simulation of the measurement of the relation between two quantities $V$ and $I$ that theory tells us is as: \n",
    "\n",
    "$I = 1 + 10V$\n",
    "\n",
    "We have three experimental setups (A,B,C) such that for each value of V (___assumed errorless___) in each set the errors in the measurement of $I$ have different characteristics. \n",
    "\n",
    "Analyze the residuals and try to ascertain if they are normal.\n",
    "\n",
    "![](./Samples.png)"
   ]
  },
  {
   "cell_type": "code",
   "execution_count": null,
   "metadata": {},
   "outputs": [],
   "source": []
  }
 ],
 "metadata": {
  "kernelspec": {
   "display_name": "Python 3 (ipykernel)",
   "language": "python",
   "name": "python3"
  },
  "language_info": {
   "codemirror_mode": {
    "name": "ipython",
    "version": 3
   },
   "file_extension": ".py",
   "mimetype": "text/x-python",
   "name": "python",
   "nbconvert_exporter": "python",
   "pygments_lexer": "ipython3",
   "version": "3.11.5"
  }
 },
 "nbformat": 4,
 "nbformat_minor": 1
}
