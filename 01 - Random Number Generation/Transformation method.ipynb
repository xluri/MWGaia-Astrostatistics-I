{
 "cells": [
  {
   "cell_type": "markdown",
   "id": "d64b3672",
   "metadata": {},
   "source": [
    "# Transforming uniformingly distributed random numbers\n",
    "\n",
    "\n",
    "### This notebook is licensed  under [CC BY-NC-SA 4.0](https://creativecommons.org/licenses/by-nc-sa/4.0/?ref=chooser-v1) © 2024 by Xavier Luri (ICCUB)\n",
    "\n",
    "\n",
    "Starting from a generator that provides numbers randomly distributed in $(0,1)$ we do:\n",
    "\n",
    "$y=\\sqrt{x}$\n",
    "\n",
    "Since\n",
    "\n",
    "$f(x) = 1 \\;\\; x \\in (0,1)$\n",
    "\n",
    "$\\;\\;\\;\\;\\;\\;\\; = 0 $ otherwise\n",
    "\n",
    "we can deduce that\n",
    "\n",
    "$g(y) = |\\frac{dx}{dy}| \\; f(x)$\n",
    "\n",
    "$\\;\\;\\;\\;\\;\\;\\; = 2y$ for $ y \\in (0,1) $\n",
    "\n",
    "$\\;\\;\\;\\;\\;\\;\\; = 0 $ otherwise\n",
    "\n",
    "We can visually check these relations by generating transformed numbers and plotting its histogram."
   ]
  },
  {
   "cell_type": "code",
   "execution_count": 2,
   "id": "c39bacf8",
   "metadata": {},
   "outputs": [
    {
     "data": {
      "image/png": "[encoded data removed]",
      "text/plain": [
       "<Figure size 432x288 with 1 Axes>"
      ]
     },
     "metadata": {
      "needs_background": "light"
     },
     "output_type": "display_data"
    }
   ],
   "source": [
    "import random\n",
    "import numpy as np\n",
    "import matplotlib.pyplot as plt\n",
    "\n",
    "x= np.random.random(100000)\n",
    "y= np.sqrt(x)\n",
    "\n",
    "# _= plt.hist(x, bins=20, density=True)\n",
    "_= plt.hist(y, bins=20, density=True)"
   ]
  },
  {
   "cell_type": "code",
   "execution_count": null,
   "id": "dca8b8c6",
   "metadata": {},
   "outputs": [],
   "source": []
  }
 ],
 "metadata": {
  "kernelspec": {
   "display_name": "Python 3 (ipykernel)",
   "language": "python",
   "name": "python3"
  },
  "language_info": {
   "codemirror_mode": {
    "name": "ipython",
    "version": 3
   },
   "file_extension": ".py",
   "mimetype": "text/x-python",
   "name": "python",
   "nbconvert_exporter": "python",
   "pygments_lexer": "ipython3",
   "version": "3.11.5"
  }
 },
 "nbformat": 4,
 "nbformat_minor": 5
}
