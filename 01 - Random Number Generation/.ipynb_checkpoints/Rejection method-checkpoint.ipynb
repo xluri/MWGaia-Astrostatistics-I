{
 "cells": [
  {
   "cell_type": "markdown",
   "id": "4c2b6933",
   "metadata": {},
   "source": [
    "# Rejection method\n",
    "\n",
    "\n",
    "### This notebook is licensed  under [CC BY-NC-SA 4.0](https://creativecommons.org/licenses/by-nc-sa/4.0/?ref=chooser-v1) © 2024 by Xavier Luri (ICCUB)\n",
    "\n",
    "\n",
    "We will apply the rejection method to generate numbers that follow a \"circular\" distribution in (0,1): \n",
    "\n",
    "![](Rejection.png)\n",
    "\n",
    "We generate pairs of numbers from a uniform distribution U(0,1) and we reject those points \"above\" $f(x)$. The retained points will follow the $f(x)$ distribution."
   ]
  },
  {
   "cell_type": "code",
   "execution_count": 5,
   "id": "d3f12237",
   "metadata": {},
   "outputs": [
    {
     "name": "stdout",
     "output_type": "stream",
     "text": [
      "392574  points generated\n"
     ]
    },
    {
     "data": {
      "image/png": "[encoded data removed]",
      "text/plain": [
       "<Figure size 432x288 with 1 Axes>"
      ]
     },
     "metadata": {
      "needs_background": "light"
     },
     "output_type": "display_data"
    }
   ],
   "source": [
    "import random\n",
    "import numpy as np\n",
    "import matplotlib.pyplot as plt\n",
    "\n",
    "N = 500000\n",
    "x= np.random.random(N)\n",
    "y= np.random.random(N)\n",
    "\n",
    "z= []\n",
    "\n",
    "for a,b in zip(x,y):\n",
    "    if a**2+b**2 <=1.:\n",
    "        z.append(a)        \n",
    "\n",
    "print(len(z), \" points generated\")\n",
    "_= plt.hist(z, bins=20, density=True)"
   ]
  },
  {
   "cell_type": "code",
   "execution_count": null,
   "id": "e36e4bf6",
   "metadata": {},
   "outputs": [],
   "source": []
  }
 ],
 "metadata": {
  "kernelspec": {
   "display_name": "Python 3 (ipykernel)",
   "language": "python",
   "name": "python3"
  },
  "language_info": {
   "codemirror_mode": {
    "name": "ipython",
    "version": 3
   },
   "file_extension": ".py",
   "mimetype": "text/x-python",
   "name": "python",
   "nbconvert_exporter": "python",
   "pygments_lexer": "ipython3",
   "version": "3.11.5"
  }
 },
 "nbformat": 4,
 "nbformat_minor": 5
}
