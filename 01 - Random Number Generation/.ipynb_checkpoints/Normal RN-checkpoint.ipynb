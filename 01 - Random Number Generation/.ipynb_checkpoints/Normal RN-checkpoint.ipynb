{
 "cells": [
  {
   "cell_type": "markdown",
   "id": "013d04c7",
   "metadata": {},
   "source": [
    "# Generating normally distributed random numbers: Box-Muller transformation\n",
    "\n",
    "\n",
    "### This notebook is licensed  under [CC BY-NC-SA 4.0](https://creativecommons.org/licenses/by-nc-sa/4.0/?ref=chooser-v1) © 2024 by Xavier Luri (ICCUB)\n",
    "\n",
    "Refer to section 7.2 (transformation methods) of the book ___Numerical recipes___ for a review of this method:\n",
    "\n",
    "* Homepage: https://numerical.recipes/\n",
    "* Free C version: http://s3.amazonaws.com/nrbook.com/book_C210.html\n",
    "* Free Fortran version: http://s3.amazonaws.com/nrbook.com/book_F210.html\n",
    "\n",
    "In short, from two random numbers $(x_1,x_2)$ drawn from an uniform distribution in $[-1,1]$ we can generte two normally distributed random numbers $(y_1,y_2)$.\n"
   ]
  },
  {
   "cell_type": "code",
   "execution_count": 1,
   "id": "4a514c4e",
   "metadata": {},
   "outputs": [
    {
     "name": "stdout",
     "output_type": "stream",
     "text": [
      "  NT P-value:  0.35255824414058806\n"
     ]
    },
    {
     "data": {
      "image/png": "[encoded data removed]",
      "text/plain": [
       "<Figure size 432x288 with 1 Axes>"
      ]
     },
     "metadata": {
      "needs_background": "light"
     },
     "output_type": "display_data"
    }
   ],
   "source": [
    "import random\n",
    "import math\n",
    "import matplotlib.pyplot as plt\n",
    "import scipy.stats as scp\n",
    "\n",
    "# We define a function implementing the Box_Muller transformation\n",
    "is_set= False\n",
    "def getNormalRN():\n",
    "    \n",
    "    # We use these global variables to store information from one \n",
    "    # generation to the next. Remember that in one call we generate\n",
    "    # two values; we save on for the next call.\n",
    "    global next_value\n",
    "    global is_set\n",
    "    \n",
    "    # Generate new pair or reuse the last value\n",
    "    if not is_set:\n",
    "        R=2\n",
    "        while R>1:\n",
    "            v1= random.uniform(-1.,1.)\n",
    "            v2= random.uniform(-1.,1.)\n",
    "            R= v1*v1+v2*v2\n",
    "            \n",
    "        fac= math.sqrt(-2.*math.log(R)/R)\n",
    "        next_value= v1*fac\n",
    "        is_set= True\n",
    "        return v2*fac\n",
    "    else:\n",
    "        is_set= False\n",
    "        return next_value\n",
    "        \n",
    "        \n",
    "random_list= [getNormalRN() for i in range(4000)]\n",
    "\n",
    "NT = scp.normaltest(random_list)\n",
    "print(\"  NT P-value: \",NT[1])\n",
    "\n",
    "_= plt.hist(random_list, bins=20)"
   ]
  },
  {
   "cell_type": "code",
   "execution_count": null,
   "id": "bd4e05c3",
   "metadata": {},
   "outputs": [],
   "source": []
  }
 ],
 "metadata": {
  "kernelspec": {
   "display_name": "Python 3 (ipykernel)",
   "language": "python",
   "name": "python3"
  },
  "language_info": {
   "codemirror_mode": {
    "name": "ipython",
    "version": 3
   },
   "file_extension": ".py",
   "mimetype": "text/x-python",
   "name": "python",
   "nbconvert_exporter": "python",
   "pygments_lexer": "ipython3",
   "version": "3.11.5"
  }
 },
 "nbformat": 4,
 "nbformat_minor": 5
}
