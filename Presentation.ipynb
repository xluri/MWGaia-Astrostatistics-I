{
 "cells": [
  {
   "cell_type": "markdown",
   "id": "a5b74aef",
   "metadata": {},
   "source": [
    "![MWGaia](MWGaia.png)"
   ]
  },
  {
   "cell_type": "markdown",
   "id": "701049a6",
   "metadata": {},
   "source": [
    "# Astrostatistics: basic tools\n",
    "\n",
    "### This notebook is licensed  under [CC BY-NC-SA 4.0](https://creativecommons.org/licenses/by-nc-sa/4.0/?ref=chooser-v1) © 2024 by Xavier Luri (ICCUB)"
   ]
  },
  {
   "cell_type": "markdown",
   "id": "87662d26",
   "metadata": {},
   "source": [
    "## Overview\n",
    "\n",
    "This is a collection of Python notebooks for the introductiory session to Astrostatistics at the Coimbra doctoral school, part of the MWGaia doctoral network.\n",
    "\n",
    "These notebooks provide a documentated collection of common tools for use in astrostatistics. The readers are encouraged __not to use__ these tools as \"black boxes\" but to understand their fundamentals throug the materials provided in the same notebooks.\n",
    "\n",
    "Suggested reading for this school: [Statistics, Data Mining, and Machine Learning in Astronomy](https://press.princeton.edu/books/hardcover/9780691198309/statistics-data-mining-and-machine-learning-in-astronomy-pdf)\n",
    "\n",
    "Other suggested reading:\n",
    "\n",
    "* [Introduction to probability for data science](https://probability4datascience.com/)\n",
    "\n",
    "* [Python data science handbook](https://jakevdp.github.io/PythonDataScienceHandbook/)"
   ]
  },
  {
   "cell_type": "markdown",
   "id": "65cdd8dd",
   "metadata": {},
   "source": [
    "## Contents\n",
    "\n",
    "(make sure your browser allows cresting new tabs/windows when clicking the links)\n",
    "\n",
    "1. [Random numbers](./01%20-%20Random%20Number%20Generation)\n",
    "1. [Probability distributions](./02%20-%20Distributions)\n",
    "1. [Non parametric estimation of the PDF: Kernel Density Estimator](./03%20-%20KDE)\n",
    "1. [Central limit theorem and law of large numbers](./04%20-%20Theorems)\n",
    "1. [Statistical tests](./05%20-%20Statistical%20tests)\n",
    "1. [Maximum likelihood estimation](./06%20-%20Maximum%20likelihood%20estimation)\n",
    "1. [Exercise solutions](./07%20-%20Exercise%20solutions)"
   ]
  },
  {
   "cell_type": "code",
   "execution_count": null,
   "id": "86832614",
   "metadata": {},
   "outputs": [],
   "source": []
  }
 ],
 "metadata": {
  "kernelspec": {
   "display_name": "Python 3 (ipykernel)",
   "language": "python",
   "name": "python3"
  },
  "language_info": {
   "codemirror_mode": {
    "name": "ipython",
    "version": 3
   },
   "file_extension": ".py",
   "mimetype": "text/x-python",
   "name": "python",
   "nbconvert_exporter": "python",
   "pygments_lexer": "ipython3",
   "version": "3.11.5"
  }
 },
 "nbformat": 4,
 "nbformat_minor": 5
}
